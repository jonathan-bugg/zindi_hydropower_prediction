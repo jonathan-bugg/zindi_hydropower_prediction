{
 "cells": [
  {
   "cell_type": "code",
   "execution_count": 1,
   "metadata": {},
   "outputs": [],
   "source": [
    "import numpy as np\n",
    "import pandas as pd\n",
    "import sklearn\n",
    "import matplotlib.pyplot as plt\n",
    "import seaborn as sns\n",
    "\n",
    "pd.set_option('display.max_rows', 100)\n",
    "pd.set_option('display.max_columns', 200)\n"
   ]
  },
  {
   "cell_type": "code",
   "execution_count": 2,
   "metadata": {},
   "outputs": [],
   "source": [
    "from data_pipeline import prepare_training_data, create_lag_features, create_rolling_features"
   ]
  },
  {
   "cell_type": "code",
   "execution_count": 3,
   "metadata": {},
   "outputs": [],
   "source": [
    "# Load the data\n",
    "df = pd.read_pickle('data/cleaned/data.pkl')\n",
    "df_submission = pd.read_pickle('data/cleaned/submission_data.pkl')\n",
    "df_climate = pd.read_pickle('data/cleaned/climate_data.pkl')\n",
    "    \n",
    "df_climate['date'] = pd.to_datetime(df_climate['date_time'].dt.date)\n",
    "\n",
    "unique_dates = pd.DataFrame(pd.date_range(start='2023-10-01', end=df.date.max()), columns=['date'])\n",
    "# unique_dates = pd.DataFrame(pd.date_range(start=df.date.min(), end=df.date.max()), columns=['date'])\n",
    "unique_sources = pd.DataFrame(df_submission.source.drop_duplicates(), columns=['source'])\n",
    "unique_dates_sources = pd.merge(unique_dates, unique_sources, how='cross')"
   ]
  },
  {
   "cell_type": "code",
   "execution_count": 5,
   "metadata": {},
   "outputs": [
    {
     "name": "stdout",
     "output_type": "stream",
     "text": [
      "Original df shape: (39147559, 13)\n",
      "Training data shape: (69646, 15)\n",
      "Feature columns: ['date', 'current_mean', 'power_factor_mean', 'v_red_mean', 'v_blue_mean', 'v_yellow_mean', 'temp_mean', 'dewpoint_temp_mean', 'u_wind_comp_mean', 'v_wind_comp_mean', 'precipitation_mean', 'snowfall_mean', 'snow_cover_mean']\n",
      "Target column: kwh_sum\n"
     ]
    }
   ],
   "source": [
    "# Define aggregation configurations\n",
    "df_agg_config = {\n",
    "    'current' : ['mean'],\n",
    "    'power_factor' : ['mean'],\n",
    "    'kwh' : ['sum'],\n",
    "    'v_red' : ['mean'],\n",
    "    'v_blue' : ['mean'],\n",
    "    'v_yellow' : ['mean']\n",
    "}\n",
    "\n",
    "climate_agg_config = {\n",
    "    'temp' : ['mean'],\n",
    "    'dewpoint_temp' : ['mean'],\n",
    "    'u_wind_comp' : ['mean'],\n",
    "    'v_wind_comp' : ['mean'],\n",
    "    'precipitation' : ['mean'],\n",
    "    'snowfall' : ['mean'],\n",
    "    'snow_cover' : ['mean']\n",
    "}\n",
    "\n",
    "# Prepare the training data\n",
    "training_data, feature_cols, target_col, agg_climate = prepare_training_data(\n",
    "    df, df_climate, unique_dates_sources, df_agg_config, climate_agg_config\n",
    ")\n",
    "\n",
    "# Add lag features (example: 1-day and 7-day lags for kwh_mean and temperature_mean)\n",
    "# lag_cols = ['kwh_mean', 'temperature_mean']\n",
    "# training_data_with_lags = create_lag_features(\n",
    "#     training_data, lag_cols, [1, 7]\n",
    "# )\n",
    "\n",
    "# # Add rolling window features\n",
    "# rolling_cols = ['kwh_sum', 'temperature_mean']\n",
    "# training_data_with_rolling = create_rolling_features(\n",
    "#     training_data, rolling_cols, [3, 7], ['mean', 'std']\n",
    "# )\n",
    "\n",
    "print(f\"Original df shape: {df.shape}\")\n",
    "print(f\"Training data shape: {training_data.shape}\")\n",
    "# print(f\"Training data with lags shape: {training_data_with_lags.shape}\")\n",
    "# print(f\"Training data with rolling features shape: {training_data_with_rolling.shape}\")\n",
    "print(f\"Feature columns: {feature_cols}\")\n",
    "print(f\"Target column: {target_col}\") "
   ]
  },
  {
   "cell_type": "code",
   "execution_count": 6,
   "metadata": {},
   "outputs": [
    {
     "data": {
      "text/html": [
       "<div>\n",
       "<style scoped>\n",
       "    .dataframe tbody tr th:only-of-type {\n",
       "        vertical-align: middle;\n",
       "    }\n",
       "\n",
       "    .dataframe tbody tr th {\n",
       "        vertical-align: top;\n",
       "    }\n",
       "\n",
       "    .dataframe thead th {\n",
       "        text-align: right;\n",
       "    }\n",
       "</style>\n",
       "<table border=\"1\" class=\"dataframe\">\n",
       "  <thead>\n",
       "    <tr style=\"text-align: right;\">\n",
       "      <th></th>\n",
       "      <th>date</th>\n",
       "      <th>temp_mean</th>\n",
       "      <th>dewpoint_temp_mean</th>\n",
       "      <th>u_wind_comp_mean</th>\n",
       "      <th>v_wind_comp_mean</th>\n",
       "      <th>precipitation_mean</th>\n",
       "      <th>snowfall_mean</th>\n",
       "      <th>snow_cover_mean</th>\n",
       "    </tr>\n",
       "  </thead>\n",
       "  <tbody>\n",
       "    <tr>\n",
       "      <th>0</th>\n",
       "      <td>2023-06-03</td>\n",
       "      <td>1.860280</td>\n",
       "      <td>-3.348664</td>\n",
       "      <td>0.025054</td>\n",
       "      <td>-0.657726</td>\n",
       "      <td>0.000414</td>\n",
       "      <td>0.000000e+00</td>\n",
       "      <td>99.972656</td>\n",
       "    </tr>\n",
       "    <tr>\n",
       "      <th>1</th>\n",
       "      <td>2023-06-04</td>\n",
       "      <td>3.992740</td>\n",
       "      <td>-1.905203</td>\n",
       "      <td>-0.180909</td>\n",
       "      <td>-0.505298</td>\n",
       "      <td>0.001004</td>\n",
       "      <td>0.000000e+00</td>\n",
       "      <td>99.972656</td>\n",
       "    </tr>\n",
       "    <tr>\n",
       "      <th>2</th>\n",
       "      <td>2023-06-05</td>\n",
       "      <td>4.794523</td>\n",
       "      <td>-3.781657</td>\n",
       "      <td>-0.145114</td>\n",
       "      <td>-0.498183</td>\n",
       "      <td>0.000482</td>\n",
       "      <td>4.858333e-08</td>\n",
       "      <td>99.972656</td>\n",
       "    </tr>\n",
       "    <tr>\n",
       "      <th>3</th>\n",
       "      <td>2023-06-06</td>\n",
       "      <td>6.304390</td>\n",
       "      <td>-4.670615</td>\n",
       "      <td>0.018054</td>\n",
       "      <td>-0.478623</td>\n",
       "      <td>0.000371</td>\n",
       "      <td>2.175000e-09</td>\n",
       "      <td>99.972656</td>\n",
       "    </tr>\n",
       "    <tr>\n",
       "      <th>4</th>\n",
       "      <td>2023-06-07</td>\n",
       "      <td>7.003922</td>\n",
       "      <td>-3.965763</td>\n",
       "      <td>0.083701</td>\n",
       "      <td>-0.516598</td>\n",
       "      <td>0.000360</td>\n",
       "      <td>0.000000e+00</td>\n",
       "      <td>99.972656</td>\n",
       "    </tr>\n",
       "    <tr>\n",
       "      <th>...</th>\n",
       "      <td>...</td>\n",
       "      <td>...</td>\n",
       "      <td>...</td>\n",
       "      <td>...</td>\n",
       "      <td>...</td>\n",
       "      <td>...</td>\n",
       "      <td>...</td>\n",
       "      <td>...</td>\n",
       "    </tr>\n",
       "    <tr>\n",
       "      <th>506</th>\n",
       "      <td>2024-10-21</td>\n",
       "      <td>3.712101</td>\n",
       "      <td>-3.217974</td>\n",
       "      <td>-0.118125</td>\n",
       "      <td>-0.373651</td>\n",
       "      <td>0.000356</td>\n",
       "      <td>0.000000e+00</td>\n",
       "      <td>1.033285</td>\n",
       "    </tr>\n",
       "    <tr>\n",
       "      <th>507</th>\n",
       "      <td>2024-10-22</td>\n",
       "      <td>2.515382</td>\n",
       "      <td>-2.358298</td>\n",
       "      <td>0.047106</td>\n",
       "      <td>-0.214380</td>\n",
       "      <td>0.000432</td>\n",
       "      <td>6.708750e-06</td>\n",
       "      <td>0.531738</td>\n",
       "    </tr>\n",
       "    <tr>\n",
       "      <th>508</th>\n",
       "      <td>2024-10-23</td>\n",
       "      <td>0.315618</td>\n",
       "      <td>-0.711822</td>\n",
       "      <td>0.001728</td>\n",
       "      <td>-0.227600</td>\n",
       "      <td>0.002350</td>\n",
       "      <td>1.128584e-03</td>\n",
       "      <td>6.653727</td>\n",
       "    </tr>\n",
       "    <tr>\n",
       "      <th>509</th>\n",
       "      <td>2024-10-24</td>\n",
       "      <td>-0.349515</td>\n",
       "      <td>-1.964442</td>\n",
       "      <td>0.045428</td>\n",
       "      <td>-0.506269</td>\n",
       "      <td>0.000449</td>\n",
       "      <td>1.930785e-04</td>\n",
       "      <td>9.877035</td>\n",
       "    </tr>\n",
       "    <tr>\n",
       "      <th>510</th>\n",
       "      <td>2024-10-25</td>\n",
       "      <td>-7.224661</td>\n",
       "      <td>-8.735220</td>\n",
       "      <td>-0.076797</td>\n",
       "      <td>-1.251801</td>\n",
       "      <td>0.000399</td>\n",
       "      <td>1.310000e-04</td>\n",
       "      <td>7.875000</td>\n",
       "    </tr>\n",
       "  </tbody>\n",
       "</table>\n",
       "<p>511 rows × 8 columns</p>\n",
       "</div>"
      ],
      "text/plain": [
       "          date  temp_mean  dewpoint_temp_mean  u_wind_comp_mean  \\\n",
       "0   2023-06-03   1.860280           -3.348664          0.025054   \n",
       "1   2023-06-04   3.992740           -1.905203         -0.180909   \n",
       "2   2023-06-05   4.794523           -3.781657         -0.145114   \n",
       "3   2023-06-06   6.304390           -4.670615          0.018054   \n",
       "4   2023-06-07   7.003922           -3.965763          0.083701   \n",
       "..         ...        ...                 ...               ...   \n",
       "506 2024-10-21   3.712101           -3.217974         -0.118125   \n",
       "507 2024-10-22   2.515382           -2.358298          0.047106   \n",
       "508 2024-10-23   0.315618           -0.711822          0.001728   \n",
       "509 2024-10-24  -0.349515           -1.964442          0.045428   \n",
       "510 2024-10-25  -7.224661           -8.735220         -0.076797   \n",
       "\n",
       "     v_wind_comp_mean  precipitation_mean  snowfall_mean  snow_cover_mean  \n",
       "0           -0.657726            0.000414   0.000000e+00        99.972656  \n",
       "1           -0.505298            0.001004   0.000000e+00        99.972656  \n",
       "2           -0.498183            0.000482   4.858333e-08        99.972656  \n",
       "3           -0.478623            0.000371   2.175000e-09        99.972656  \n",
       "4           -0.516598            0.000360   0.000000e+00        99.972656  \n",
       "..                ...                 ...            ...              ...  \n",
       "506         -0.373651            0.000356   0.000000e+00         1.033285  \n",
       "507         -0.214380            0.000432   6.708750e-06         0.531738  \n",
       "508         -0.227600            0.002350   1.128584e-03         6.653727  \n",
       "509         -0.506269            0.000449   1.930785e-04         9.877035  \n",
       "510         -1.251801            0.000399   1.310000e-04         7.875000  \n",
       "\n",
       "[511 rows x 8 columns]"
      ]
     },
     "execution_count": 6,
     "metadata": {},
     "output_type": "execute_result"
    }
   ],
   "source": [
    "agg_climate"
   ]
  },
  {
   "cell_type": "code",
   "execution_count": 9,
   "metadata": {},
   "outputs": [],
   "source": [
    "training_data.head(5)\n",
    "training_data.to_pickle('data/cleaned/training_data.pkl')"
   ]
  },
  {
   "cell_type": "code",
   "execution_count": 14,
   "metadata": {},
   "outputs": [
    {
     "data": {
      "text/html": [
       "<div>\n",
       "<style scoped>\n",
       "    .dataframe tbody tr th:only-of-type {\n",
       "        vertical-align: middle;\n",
       "    }\n",
       "\n",
       "    .dataframe tbody tr th {\n",
       "        vertical-align: top;\n",
       "    }\n",
       "\n",
       "    .dataframe thead th {\n",
       "        text-align: right;\n",
       "    }\n",
       "</style>\n",
       "<table border=\"1\" class=\"dataframe\">\n",
       "  <thead>\n",
       "    <tr style=\"text-align: right;\">\n",
       "      <th></th>\n",
       "      <th>date</th>\n",
       "      <th>source</th>\n",
       "      <th>kwh_sum</th>\n",
       "    </tr>\n",
       "  </thead>\n",
       "  <tbody>\n",
       "    <tr>\n",
       "      <th>0</th>\n",
       "      <td>2023-10-01</td>\n",
       "      <td>consumer_device_12_data_user_1</td>\n",
       "      <td>0.0</td>\n",
       "    </tr>\n",
       "    <tr>\n",
       "      <th>1</th>\n",
       "      <td>2023-10-01</td>\n",
       "      <td>consumer_device_12_data_user_10</td>\n",
       "      <td>0.0</td>\n",
       "    </tr>\n",
       "    <tr>\n",
       "      <th>2</th>\n",
       "      <td>2023-10-01</td>\n",
       "      <td>consumer_device_12_data_user_11</td>\n",
       "      <td>0.0</td>\n",
       "    </tr>\n",
       "    <tr>\n",
       "      <th>3</th>\n",
       "      <td>2023-10-01</td>\n",
       "      <td>consumer_device_12_data_user_12</td>\n",
       "      <td>0.0</td>\n",
       "    </tr>\n",
       "    <tr>\n",
       "      <th>4</th>\n",
       "      <td>2023-10-01</td>\n",
       "      <td>consumer_device_12_data_user_13</td>\n",
       "      <td>0.0</td>\n",
       "    </tr>\n",
       "  </tbody>\n",
       "</table>\n",
       "</div>"
      ],
      "text/plain": [
       "        date                           source  kwh_sum\n",
       "0 2023-10-01   consumer_device_12_data_user_1      0.0\n",
       "1 2023-10-01  consumer_device_12_data_user_10      0.0\n",
       "2 2023-10-01  consumer_device_12_data_user_11      0.0\n",
       "3 2023-10-01  consumer_device_12_data_user_12      0.0\n",
       "4 2023-10-01  consumer_device_12_data_user_13      0.0"
      ]
     },
     "execution_count": 14,
     "metadata": {},
     "output_type": "execute_result"
    }
   ],
   "source": [
    "agg_df = training_data.groupby(['date', 'source']).agg(kwh_sum = ('kwh_sum', 'sum')).reset_index()\n",
    "agg_df = agg_df.pivot(index='date', columns='source', values='kwh_sum').reset_index()\n",
    "agg_df.head(5)\n",
    "# agg_df = agg_df[unique_sources.source.drop_duplicates().to_list()]"
   ]
  },
  {
   "cell_type": "code",
   "execution_count": 11,
   "metadata": {},
   "outputs": [
    {
     "name": "stdout",
     "output_type": "stream",
     "text": [
      "(511, 7)\n",
      "(479, 194)\n"
     ]
    }
   ],
   "source": [
    "print(exog.shape)\n",
    "print(Y.shape)"
   ]
  },
  {
   "cell_type": "code",
   "execution_count": 21,
   "metadata": {},
   "outputs": [
    {
     "data": {
      "text/plain": [
       "array([[       nan,        nan,        nan, ...,        nan,        nan,\n",
       "               nan],\n",
       "       [       nan,        nan,        nan, ...,        nan,        nan,\n",
       "               nan],\n",
       "       [       nan,        nan,        nan, ...,        nan,        nan,\n",
       "               nan],\n",
       "       ...,\n",
       "       [0.21195427, 0.15477929, 0.05354679, ..., 0.16209729, 0.19321056,\n",
       "        0.25562017],\n",
       "       [0.05995667, 0.04154606, 0.02002134, ..., 0.14410179, 0.17862409,\n",
       "        0.23655887],\n",
       "       [0.19012027, 0.13149823, 0.037945  , ..., 0.19545766, 0.21263652,\n",
       "        0.29553819]])"
      ]
     },
     "execution_count": 21,
     "metadata": {},
     "output_type": "execute_result"
    }
   ],
   "source": [
    "training_data[['date', 'source', 'kwh_sum']].pivot(index='date', columns='source', values='kwh_sum').reset_index().drop(columns = ['date']).to_numpy()\n"
   ]
  },
  {
   "cell_type": "code",
   "execution_count": 46,
   "metadata": {},
   "outputs": [
    {
     "name": "stdout",
     "output_type": "stream",
     "text": [
      "(359, 7)\n",
      "(359, 4)\n",
      "                              Statespace Model Results                              \n",
      "====================================================================================\n",
      "Dep. Variable:     ['y1', 'y2', 'y3', 'y4']   No. Observations:                  359\n",
      "Model:                              VARX(1)   Log Likelihood                5620.398\n",
      "                                + intercept   AIC                         -11124.795\n",
      "Date:                      Sun, 09 Mar 2025   BIC                         -10899.563\n",
      "Time:                              19:47:14   HQIC                        -11035.229\n",
      "Sample:                                   0                                         \n",
      "                                      - 359                                         \n",
      "Covariance Type:                        opg                                         \n",
      "==============================================================================================================\n",
      "Ljung-Box (L1) (Q):          25.03, 0.27, 0.00, 0.31   Jarque-Bera (JB):   5433.79, 28820.47, 3809.62, 4143.61\n",
      "Prob(Q):                      0.00, 0.61, 0.97, 0.58   Prob(JB):                        0.00, 0.00, 0.00, 0.00\n",
      "Heteroskedasticity (H): 72.40, 76.41, 507.88, 351.55   Skew:                         2.23, -1.25, -1.28, -0.45\n",
      "Prob(H) (two-sided):          0.00, 0.00, 0.00, 0.00   Kurtosis:                    21.53, 46.82, 18.75, 19.62\n",
      "                           Results for equation y1                            \n",
      "==============================================================================\n",
      "                 coef    std err          z      P>|z|      [0.025      0.975]\n",
      "------------------------------------------------------------------------------\n",
      "intercept      0.0175      0.037      0.474      0.636      -0.055       0.090\n",
      "L1.y1          0.5880      1.150      0.511      0.609      -1.666       2.842\n",
      "L1.y2         -0.9487      2.644     -0.359      0.720      -6.131       4.233\n",
      "L1.y3         -0.3681      0.760     -0.485      0.628      -1.857       1.121\n",
      "L1.y4          1.3315      3.288      0.405      0.685      -5.112       7.775\n",
      "beta.x1     2.395e-05      0.003      0.008      0.993      -0.006       0.006\n",
      "beta.x2       -0.0002      0.003     -0.068      0.946      -0.006       0.005\n",
      "beta.x3       -0.0152      0.051     -0.297      0.766      -0.115       0.085\n",
      "beta.x4        0.0017      0.044      0.039      0.969      -0.085       0.088\n",
      "beta.x5        0.4597      3.847      0.120      0.905      -7.080       7.999\n",
      "beta.x6       -0.5846     14.375     -0.041      0.968     -28.759      27.590\n",
      "beta.x7       -0.0002      0.001     -0.283      0.778      -0.002       0.001\n",
      "                           Results for equation y2                            \n",
      "==============================================================================\n",
      "                 coef    std err          z      P>|z|      [0.025      0.975]\n",
      "------------------------------------------------------------------------------\n",
      "intercept      0.0122      0.023      0.539      0.590      -0.032       0.057\n",
      "L1.y1          0.1549      0.814      0.190      0.849      -1.440       1.749\n",
      "L1.y2         -0.1487      1.762     -0.084      0.933      -3.602       3.304\n",
      "L1.y3         -0.1885      0.535     -0.353      0.724      -1.237       0.860\n",
      "L1.y4          0.7497      2.270      0.330      0.741      -3.699       5.198\n",
      "beta.x1     5.643e-05      0.002      0.030      0.976      -0.004       0.004\n",
      "beta.x2       -0.0001      0.002     -0.072      0.943      -0.004       0.003\n",
      "beta.x3       -0.0105      0.034     -0.312      0.755      -0.076       0.055\n",
      "beta.x4    -3.158e-05      0.029     -0.001      0.999      -0.056       0.056\n",
      "beta.x5        0.3578      2.327      0.154      0.878      -4.204       4.919\n",
      "beta.x6       -0.4083     10.019     -0.041      0.967     -20.045      19.229\n",
      "beta.x7       -0.0001      0.000     -0.323      0.746      -0.001       0.001\n",
      "                           Results for equation y3                            \n",
      "==============================================================================\n",
      "                 coef    std err          z      P>|z|      [0.025      0.975]\n",
      "------------------------------------------------------------------------------\n",
      "intercept      0.0055      0.015      0.379      0.705      -0.023       0.034\n",
      "L1.y1         -0.0196      0.360     -0.054      0.957      -0.726       0.686\n",
      "L1.y2         -1.3971      1.176     -1.188      0.235      -3.702       0.908\n",
      "L1.y3          0.3310      0.281      1.176      0.239      -0.220       0.883\n",
      "L1.y4          1.5319      1.329      1.153      0.249      -1.073       4.137\n",
      "beta.x1    -5.627e-05      0.001     -0.042      0.967      -0.003       0.003\n",
      "beta.x2    -3.315e-05      0.001     -0.024      0.981      -0.003       0.003\n",
      "beta.x3       -0.0024      0.021     -0.113      0.910      -0.044       0.039\n",
      "beta.x4        0.0011      0.018      0.060      0.952      -0.034       0.036\n",
      "beta.x5        0.4865      1.103      0.441      0.659      -1.675       2.648\n",
      "beta.x6       -0.5231      8.852     -0.059      0.953     -17.873      16.826\n",
      "beta.x7    -5.828e-05      0.000     -0.192      0.848      -0.001       0.001\n",
      "                           Results for equation y4                            \n",
      "==============================================================================\n",
      "                 coef    std err          z      P>|z|      [0.025      0.975]\n",
      "------------------------------------------------------------------------------\n",
      "intercept      0.0131      0.025      0.517      0.605      -0.037       0.063\n",
      "L1.y1          0.1931      0.873      0.221      0.825      -1.517       1.903\n",
      "L1.y2         -0.6354      1.981     -0.321      0.748      -4.518       3.247\n",
      "L1.y3         -0.1989      0.576     -0.345      0.730      -1.328       0.930\n",
      "L1.y4          1.2291      2.488      0.494      0.621      -3.648       6.106\n",
      "beta.x1     5.079e-05      0.002      0.024      0.981      -0.004       0.004\n",
      "beta.x2       -0.0002      0.002     -0.075      0.940      -0.004       0.004\n",
      "beta.x3       -0.0111      0.037     -0.299      0.765      -0.084       0.061\n",
      "beta.x4        0.0005      0.032      0.015      0.988      -0.062       0.063\n",
      "beta.x5        0.4391      2.509      0.175      0.861      -4.478       5.356\n",
      "beta.x6       -0.5024     11.598     -0.043      0.965     -23.234      22.230\n",
      "beta.x7       -0.0002      0.001     -0.305      0.760      -0.001       0.001\n",
      "                             Error covariance matrix                              \n",
      "==================================================================================\n",
      "                     coef    std err          z      P>|z|      [0.025      0.975]\n",
      "----------------------------------------------------------------------------------\n",
      "sqrt.var.y1        0.0337      0.002     17.773      0.000       0.030       0.037\n",
      "sqrt.cov.y1.y2     0.0226      0.001     18.569      0.000       0.020       0.025\n",
      "sqrt.var.y2        0.0028      0.000     18.562      0.000       0.003       0.003\n",
      "sqrt.cov.y1.y3     0.0116      0.001     13.986      0.000       0.010       0.013\n",
      "sqrt.cov.y2.y3     0.0009      0.001      1.604      0.109      -0.000       0.002\n",
      "sqrt.var.y3        0.0077      0.000     24.579      0.000       0.007       0.008\n",
      "sqrt.cov.y1.y4     0.0249      0.001     18.829      0.000       0.022       0.028\n",
      "sqrt.cov.y2.y4     0.0026      0.000     15.323      0.000       0.002       0.003\n",
      "sqrt.cov.y3.y4     0.0014   8.67e-05     15.824      0.000       0.001       0.002\n",
      "sqrt.var.y4        0.0008   4.61e-05     17.612      0.000       0.001       0.001\n",
      "==================================================================================\n",
      "\n",
      "Warnings:\n",
      "[1] Covariance matrix calculated using the outer product of gradients (complex-step).\n",
      "[2] Covariance matrix is singular or near-singular, with condition number 8.35e+13. Standard errors may be unstable.\n"
     ]
    },
    {
     "name": "stderr",
     "output_type": "stream",
     "text": [
      "/Users/jonathanbugg/Desktop/zindi_hydro_pred/zindi_hydropower_prediction/.venv/lib/python3.9/site-packages/statsmodels/base/model.py:607: ConvergenceWarning: Maximum Likelihood optimization failed to converge. Check mle_retvals\n",
      "  warnings.warn(\"Maximum Likelihood optimization failed to \"\n"
     ]
    }
   ],
   "source": [
    "from statsmodels.tsa.statespace.varmax import VARMAX\n",
    "\n",
    "exog = training_data.loc[training_data.source == 'consumer_device_12_data_user_1',['temp_mean', 'dewpoint_temp_mean',\t'u_wind_comp_mean',\t\n",
    "                     'v_wind_comp_mean',\t'precipitation_mean',\t'snowfall_mean',\n",
    "                     'snow_cover_mean']].copy().to_numpy()\n",
    "\n",
    "Y = training_data[['date', 'source', 'kwh_sum']].pivot(index='date', columns='source', values='kwh_sum').reset_index().drop(columns = ['date']).fillna(0)\n",
    "Y = Y.iloc[:,:4].to_numpy()\n",
    "print(exog.shape)\n",
    "print(Y.shape)\n",
    "# Choose an autoregressive order, e.g., p=1 or p=2 (you might need to test for optimal lag).\n",
    "p = 1\n",
    "\n",
    "# Fit the VARMAX model.\n",
    "model = VARMAX(Y, exog=exog, order=(p, 0))\n",
    "result = model.fit(maxiter=2000, disp=False)\n",
    "print(result.summary())"
   ]
  },
  {
   "cell_type": "code",
   "execution_count": 42,
   "metadata": {},
   "outputs": [
    {
     "data": {
      "text/plain": [
       "array([[0.        , 0.        , 0.        , ..., 0.        , 0.        ,\n",
       "        0.        ],\n",
       "       [0.        , 0.        , 0.        , ..., 0.        , 0.        ,\n",
       "        0.        ],\n",
       "       [0.        , 0.        , 0.        , ..., 0.        , 0.        ,\n",
       "        0.        ],\n",
       "       ...,\n",
       "       [0.00886259, 0.00678749, 0.        , ..., 0.78560746, 0.98633917,\n",
       "        0.00796983],\n",
       "       [0.        , 0.        , 0.        , ..., 0.        , 0.        ,\n",
       "        0.        ],\n",
       "       [0.        , 0.        , 0.        , ..., 0.        , 0.        ,\n",
       "        0.        ]])"
      ]
     },
     "execution_count": 42,
     "metadata": {},
     "output_type": "execute_result"
    }
   ],
   "source": [
    "Y[:-50,:]"
   ]
  },
  {
   "cell_type": "code",
   "execution_count": 47,
   "metadata": {},
   "outputs": [
    {
     "name": "stdout",
     "output_type": "stream",
     "text": [
      "0.023630017074456174\n",
      "0.01361551435529349\n"
     ]
    }
   ],
   "source": [
    "print(np.sqrt(np.mean((result.fittedvalues-Y)**2)))\n",
    "\n",
    "print(np.sqrt(np.mean((result.fittedvalues[:-50,:]-Y[:-50,:])**2)))"
   ]
  },
  {
   "cell_type": "code",
   "execution_count": 48,
   "metadata": {},
   "outputs": [
    {
     "ename": "ValueError",
     "evalue": "Out-of-sample operations in a model with a regression component require additional exogenous values via the `exog` argument.",
     "output_type": "error",
     "traceback": [
      "\u001b[0;31m---------------------------------------------------------------------------\u001b[0m",
      "\u001b[0;31mValueError\u001b[0m                                Traceback (most recent call last)",
      "Cell \u001b[0;32mIn[48], line 1\u001b[0m\n\u001b[0;32m----> 1\u001b[0m \u001b[43mresult\u001b[49m\u001b[38;5;241;43m.\u001b[39;49m\u001b[43mforecast\u001b[49m\u001b[43m(\u001b[49m\u001b[43msteps\u001b[49m\u001b[43m \u001b[49m\u001b[38;5;241;43m=\u001b[39;49m\u001b[43m \u001b[49m\u001b[38;5;241;43m30\u001b[39;49m\u001b[43m)\u001b[49m\n",
      "File \u001b[0;32m~/Desktop/zindi_hydro_pred/zindi_hydropower_prediction/.venv/lib/python3.9/site-packages/statsmodels/base/wrapper.py:113\u001b[0m, in \u001b[0;36mmake_wrapper.<locals>.wrapper\u001b[0;34m(self, *args, **kwargs)\u001b[0m\n\u001b[1;32m    111\u001b[0m     obj \u001b[38;5;241m=\u001b[39m data\u001b[38;5;241m.\u001b[39mwrap_output(func(results, \u001b[38;5;241m*\u001b[39margs, \u001b[38;5;241m*\u001b[39m\u001b[38;5;241m*\u001b[39mkwargs), how[\u001b[38;5;241m0\u001b[39m], how[\u001b[38;5;241m1\u001b[39m:])\n\u001b[1;32m    112\u001b[0m \u001b[38;5;28;01melif\u001b[39;00m how:\n\u001b[0;32m--> 113\u001b[0m     obj \u001b[38;5;241m=\u001b[39m data\u001b[38;5;241m.\u001b[39mwrap_output(\u001b[43mfunc\u001b[49m\u001b[43m(\u001b[49m\u001b[43mresults\u001b[49m\u001b[43m,\u001b[49m\u001b[43m \u001b[49m\u001b[38;5;241;43m*\u001b[39;49m\u001b[43margs\u001b[49m\u001b[43m,\u001b[49m\u001b[43m \u001b[49m\u001b[38;5;241;43m*\u001b[39;49m\u001b[38;5;241;43m*\u001b[39;49m\u001b[43mkwargs\u001b[49m\u001b[43m)\u001b[49m, how)\n\u001b[1;32m    114\u001b[0m \u001b[38;5;28;01mreturn\u001b[39;00m obj\n",
      "File \u001b[0;32m~/Desktop/zindi_hydro_pred/zindi_hydropower_prediction/.venv/lib/python3.9/site-packages/statsmodels/tsa/statespace/mlemodel.py:3538\u001b[0m, in \u001b[0;36mMLEResults.forecast\u001b[0;34m(self, steps, signal_only, **kwargs)\u001b[0m\n\u001b[1;32m   3536\u001b[0m \u001b[38;5;28;01melse\u001b[39;00m:\n\u001b[1;32m   3537\u001b[0m     end \u001b[38;5;241m=\u001b[39m steps\n\u001b[0;32m-> 3538\u001b[0m \u001b[38;5;28;01mreturn\u001b[39;00m \u001b[38;5;28;43mself\u001b[39;49m\u001b[38;5;241;43m.\u001b[39;49m\u001b[43mpredict\u001b[49m\u001b[43m(\u001b[49m\u001b[43mstart\u001b[49m\u001b[38;5;241;43m=\u001b[39;49m\u001b[38;5;28;43mself\u001b[39;49m\u001b[38;5;241;43m.\u001b[39;49m\u001b[43mnobs\u001b[49m\u001b[43m,\u001b[49m\u001b[43m \u001b[49m\u001b[43mend\u001b[49m\u001b[38;5;241;43m=\u001b[39;49m\u001b[43mend\u001b[49m\u001b[43m,\u001b[49m\u001b[43m \u001b[49m\u001b[43msignal_only\u001b[49m\u001b[38;5;241;43m=\u001b[39;49m\u001b[43msignal_only\u001b[49m\u001b[43m,\u001b[49m\n\u001b[1;32m   3539\u001b[0m \u001b[43m                    \u001b[49m\u001b[38;5;241;43m*\u001b[39;49m\u001b[38;5;241;43m*\u001b[39;49m\u001b[43mkwargs\u001b[49m\u001b[43m)\u001b[49m\n",
      "File \u001b[0;32m~/Desktop/zindi_hydro_pred/zindi_hydropower_prediction/.venv/lib/python3.9/site-packages/statsmodels/tsa/statespace/mlemodel.py:3488\u001b[0m, in \u001b[0;36mMLEResults.predict\u001b[0;34m(self, start, end, dynamic, information_set, signal_only, **kwargs)\u001b[0m\n\u001b[1;32m   3423\u001b[0m \u001b[38;5;250m\u001b[39m\u001b[38;5;124mr\u001b[39m\u001b[38;5;124;03m\"\"\"\u001b[39;00m\n\u001b[1;32m   3424\u001b[0m \u001b[38;5;124;03mIn-sample prediction and out-of-sample forecasting\u001b[39;00m\n\u001b[1;32m   3425\u001b[0m \n\u001b[0;32m   (...)\u001b[0m\n\u001b[1;32m   3485\u001b[0m \u001b[38;5;124;03m    including confidence intervals.\u001b[39;00m\n\u001b[1;32m   3486\u001b[0m \u001b[38;5;124;03m\"\"\"\u001b[39;00m\n\u001b[1;32m   3487\u001b[0m \u001b[38;5;66;03m# Perform the prediction\u001b[39;00m\n\u001b[0;32m-> 3488\u001b[0m prediction_results \u001b[38;5;241m=\u001b[39m \u001b[38;5;28;43mself\u001b[39;49m\u001b[38;5;241;43m.\u001b[39;49m\u001b[43mget_prediction\u001b[49m\u001b[43m(\u001b[49m\n\u001b[1;32m   3489\u001b[0m \u001b[43m    \u001b[49m\u001b[43mstart\u001b[49m\u001b[43m,\u001b[49m\u001b[43m \u001b[49m\u001b[43mend\u001b[49m\u001b[43m,\u001b[49m\u001b[43m \u001b[49m\u001b[43mdynamic\u001b[49m\u001b[43m,\u001b[49m\u001b[43m \u001b[49m\u001b[43minformation_set\u001b[49m\u001b[38;5;241;43m=\u001b[39;49m\u001b[43minformation_set\u001b[49m\u001b[43m,\u001b[49m\n\u001b[1;32m   3490\u001b[0m \u001b[43m    \u001b[49m\u001b[43msignal_only\u001b[49m\u001b[38;5;241;43m=\u001b[39;49m\u001b[43msignal_only\u001b[49m\u001b[43m,\u001b[49m\u001b[43m \u001b[49m\u001b[38;5;241;43m*\u001b[39;49m\u001b[38;5;241;43m*\u001b[39;49m\u001b[43mkwargs\u001b[49m\u001b[43m)\u001b[49m\n\u001b[1;32m   3491\u001b[0m \u001b[38;5;28;01mreturn\u001b[39;00m prediction_results\u001b[38;5;241m.\u001b[39mpredicted_mean\n",
      "File \u001b[0;32m~/Desktop/zindi_hydro_pred/zindi_hydropower_prediction/.venv/lib/python3.9/site-packages/statsmodels/tsa/statespace/varmax.py:1014\u001b[0m, in \u001b[0;36mVARMAXResults.get_prediction\u001b[0;34m(self, start, end, dynamic, information_set, index, exog, **kwargs)\u001b[0m\n\u001b[1;32m   1010\u001b[0m _start, _end, out_of_sample, _ \u001b[38;5;241m=\u001b[39m (\n\u001b[1;32m   1011\u001b[0m     \u001b[38;5;28mself\u001b[39m\u001b[38;5;241m.\u001b[39mmodel\u001b[38;5;241m.\u001b[39m_get_prediction_index(start, end, index, silent\u001b[38;5;241m=\u001b[39m\u001b[38;5;28;01mTrue\u001b[39;00m))\n\u001b[1;32m   1013\u001b[0m \u001b[38;5;66;03m# Normalize `exog`\u001b[39;00m\n\u001b[0;32m-> 1014\u001b[0m exog \u001b[38;5;241m=\u001b[39m \u001b[38;5;28;43mself\u001b[39;49m\u001b[38;5;241;43m.\u001b[39;49m\u001b[43mmodel\u001b[49m\u001b[38;5;241;43m.\u001b[39;49m\u001b[43m_validate_out_of_sample_exog\u001b[49m\u001b[43m(\u001b[49m\u001b[43mexog\u001b[49m\u001b[43m,\u001b[49m\u001b[43m \u001b[49m\u001b[43mout_of_sample\u001b[49m\u001b[43m)\u001b[49m\n\u001b[1;32m   1016\u001b[0m \u001b[38;5;66;03m# Handle trend offset for extended model\u001b[39;00m\n\u001b[1;32m   1017\u001b[0m extend_kwargs \u001b[38;5;241m=\u001b[39m {}\n",
      "File \u001b[0;32m~/Desktop/zindi_hydro_pred/zindi_hydropower_prediction/.venv/lib/python3.9/site-packages/statsmodels/tsa/statespace/mlemodel.py:1770\u001b[0m, in \u001b[0;36mMLEModel._validate_out_of_sample_exog\u001b[0;34m(self, exog, out_of_sample)\u001b[0m\n\u001b[1;32m   1768\u001b[0m \u001b[38;5;28;01mif\u001b[39;00m out_of_sample \u001b[38;5;129;01mand\u001b[39;00m k_exog \u001b[38;5;241m>\u001b[39m \u001b[38;5;241m0\u001b[39m:\n\u001b[1;32m   1769\u001b[0m     \u001b[38;5;28;01mif\u001b[39;00m exog \u001b[38;5;129;01mis\u001b[39;00m \u001b[38;5;28;01mNone\u001b[39;00m:\n\u001b[0;32m-> 1770\u001b[0m         \u001b[38;5;28;01mraise\u001b[39;00m \u001b[38;5;167;01mValueError\u001b[39;00m(\u001b[38;5;124m'\u001b[39m\u001b[38;5;124mOut-of-sample operations in a model\u001b[39m\u001b[38;5;124m'\u001b[39m\n\u001b[1;32m   1771\u001b[0m                          \u001b[38;5;124m'\u001b[39m\u001b[38;5;124m with a regression component require\u001b[39m\u001b[38;5;124m'\u001b[39m\n\u001b[1;32m   1772\u001b[0m                          \u001b[38;5;124m'\u001b[39m\u001b[38;5;124m additional exogenous values via the\u001b[39m\u001b[38;5;124m'\u001b[39m\n\u001b[1;32m   1773\u001b[0m                          \u001b[38;5;124m'\u001b[39m\u001b[38;5;124m `exog` argument.\u001b[39m\u001b[38;5;124m'\u001b[39m)\n\u001b[1;32m   1774\u001b[0m     exog \u001b[38;5;241m=\u001b[39m np\u001b[38;5;241m.\u001b[39marray(exog)\n\u001b[1;32m   1775\u001b[0m     required_exog_shape \u001b[38;5;241m=\u001b[39m (out_of_sample, \u001b[38;5;28mself\u001b[39m\u001b[38;5;241m.\u001b[39mk_exog)\n",
      "\u001b[0;31mValueError\u001b[0m: Out-of-sample operations in a model with a regression component require additional exogenous values via the `exog` argument."
     ]
    }
   ],
   "source": [
    "result.forecast(steps = 30)"
   ]
  },
  {
   "cell_type": "code",
   "execution_count": null,
   "metadata": {},
   "outputs": [
    {
     "data": {
      "image/png": "[encoded data removed]",
      "text/plain": [
       "<Figure size 640x480 with 1 Axes>"
      ]
     },
     "metadata": {},
     "output_type": "display_data"
    }
   ],
   "source": [
    "perc_na = agg_df.isna().sum(axis=1) / agg_df.shape[1]\n",
    "sns.lineplot(x = unique_dates.date, y = perc_na)\n",
    "agg_df[unique_sources.source.drop_duplicates().to_list()].isna().sum(axis=1) / agg_df.shape[1]\n",
    "plt.xticks(rotation=45, ha='right')\n",
    "plt.show()\n",
    "\n",
    "\n",
    "\n"
   ]
  },
  {
   "cell_type": "code",
   "execution_count": 59,
   "metadata": {},
   "outputs": [
    {
     "data": {
      "text/html": [
       "<div>\n",
       "<style scoped>\n",
       "    .dataframe tbody tr th:only-of-type {\n",
       "        vertical-align: middle;\n",
       "    }\n",
       "\n",
       "    .dataframe tbody tr th {\n",
       "        vertical-align: top;\n",
       "    }\n",
       "\n",
       "    .dataframe thead th {\n",
       "        text-align: right;\n",
       "    }\n",
       "</style>\n",
       "<table border=\"1\" class=\"dataframe\">\n",
       "  <thead>\n",
       "    <tr style=\"text-align: right;\">\n",
       "      <th></th>\n",
       "      <th>date</th>\n",
       "      <th>perc_zero</th>\n",
       "    </tr>\n",
       "  </thead>\n",
       "  <tbody>\n",
       "    <tr>\n",
       "      <th>120</th>\n",
       "      <td>2023-10-01</td>\n",
       "      <td>0.932990</td>\n",
       "    </tr>\n",
       "    <tr>\n",
       "      <th>121</th>\n",
       "      <td>2023-10-02</td>\n",
       "      <td>0.932990</td>\n",
       "    </tr>\n",
       "    <tr>\n",
       "      <th>122</th>\n",
       "      <td>2023-10-03</td>\n",
       "      <td>0.932990</td>\n",
       "    </tr>\n",
       "    <tr>\n",
       "      <th>123</th>\n",
       "      <td>2023-10-04</td>\n",
       "      <td>0.932990</td>\n",
       "    </tr>\n",
       "    <tr>\n",
       "      <th>124</th>\n",
       "      <td>2023-10-05</td>\n",
       "      <td>0.932990</td>\n",
       "    </tr>\n",
       "    <tr>\n",
       "      <th>...</th>\n",
       "      <td>...</td>\n",
       "      <td>...</td>\n",
       "    </tr>\n",
       "    <tr>\n",
       "      <th>474</th>\n",
       "      <td>2024-09-19</td>\n",
       "      <td>0.170103</td>\n",
       "    </tr>\n",
       "    <tr>\n",
       "      <th>475</th>\n",
       "      <td>2024-09-20</td>\n",
       "      <td>0.118557</td>\n",
       "    </tr>\n",
       "    <tr>\n",
       "      <th>476</th>\n",
       "      <td>2024-09-21</td>\n",
       "      <td>0.180412</td>\n",
       "    </tr>\n",
       "    <tr>\n",
       "      <th>477</th>\n",
       "      <td>2024-09-22</td>\n",
       "      <td>0.175258</td>\n",
       "    </tr>\n",
       "    <tr>\n",
       "      <th>478</th>\n",
       "      <td>2024-09-23</td>\n",
       "      <td>0.159794</td>\n",
       "    </tr>\n",
       "  </tbody>\n",
       "</table>\n",
       "<p>165 rows × 2 columns</p>\n",
       "</div>"
      ],
      "text/plain": [
       "          date  perc_zero\n",
       "120 2023-10-01   0.932990\n",
       "121 2023-10-02   0.932990\n",
       "122 2023-10-03   0.932990\n",
       "123 2023-10-04   0.932990\n",
       "124 2023-10-05   0.932990\n",
       "..         ...        ...\n",
       "474 2024-09-19   0.170103\n",
       "475 2024-09-20   0.118557\n",
       "476 2024-09-21   0.180412\n",
       "477 2024-09-22   0.175258\n",
       "478 2024-09-23   0.159794\n",
       "\n",
       "[165 rows x 2 columns]"
      ]
     },
     "execution_count": 59,
     "metadata": {},
     "output_type": "execute_result"
    }
   ],
   "source": [
    "agg_df_filled = agg_df.fillna(0)\n",
    "\n",
    "perc_zero_na = (agg_df_filled < 0.01).sum(axis=1) / agg_df_filled.shape[1]\n",
    "perc_zero_na_df = pd.DataFrame({\n",
    "    'date': unique_dates.date,\n",
    "    'perc_zero': perc_zero_na\n",
    "})\n",
    "perc_zero_na_df[perc_zero_na_df.perc_zero < 1.0]\n"
   ]
  },
  {
   "cell_type": "code",
   "execution_count": 52,
   "metadata": {},
   "outputs": [
    {
     "data": {
      "text/plain": [
       "((479,), (479,))"
      ]
     },
     "execution_count": 52,
     "metadata": {},
     "output_type": "execute_result"
    }
   ],
   "source": [
    "unique_dates.date.shape, perc_zero_na.T.shape"
   ]
  },
  {
   "cell_type": "code",
   "execution_count": null,
   "metadata": {},
   "outputs": [],
   "source": []
  }
 ],
 "metadata": {
  "kernelspec": {
   "display_name": ".venv",
   "language": "python",
   "name": "python3"
  },
  "language_info": {
   "codemirror_mode": {
    "name": "ipython",
    "version": 3
   },
   "file_extension": ".py",
   "mimetype": "text/x-python",
   "name": "python",
   "nbconvert_exporter": "python",
   "pygments_lexer": "ipython3",
   "version": "3.9.6"
  }
 },
 "nbformat": 4,
 "nbformat_minor": 2
}
